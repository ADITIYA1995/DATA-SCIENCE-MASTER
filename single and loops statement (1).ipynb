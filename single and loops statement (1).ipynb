{
 "cells": [
  {
   "cell_type": "markdown",
   "id": "fafa0bdb-2507-44e1-8a17-84b335c89b55",
   "metadata": {},
   "source": [
    "## single statements suites"
   ]
  },
  {
   "cell_type": "code",
   "execution_count": 1,
   "id": "68ed6a72-bcfc-4b7e-9975-c32c5b50b9a7",
   "metadata": {},
   "outputs": [
    {
     "name": "stdin",
     "output_type": "stream",
     "text": [
      "Enter the no 25\n"
     ]
    },
    {
     "name": "stdout",
     "output_type": "stream",
     "text": [
      "promoted\n"
     ]
    }
   ],
   "source": [
    "value=int(input(\"Enter the no\"))\n",
    "if value<=999:print(\"promoted\")\n",
    "else:\n",
    "          print(\"disqualified\")"
   ]
  },
  {
   "cell_type": "markdown",
   "id": "64381e13-9c42-4048-9dc3-cce50627e184",
   "metadata": {},
   "source": [
    "## loop statements\n",
    "1. While\n",
    "2. For\n",
    "3. Nasted\n",
    "4. loop control (break,continue,pass)"
   ]
  },
  {
   "cell_type": "code",
   "execution_count": 2,
   "id": "29e8c1a1-3694-427a-8ad6-ed5b1f431f08",
   "metadata": {},
   "outputs": [
    {
     "name": "stdout",
     "output_type": "stream",
     "text": [
      "26\n",
      "27\n",
      "28\n",
      "29\n",
      "30\n",
      "31\n",
      "32\n",
      "33\n",
      "34\n",
      "35\n",
      "36\n",
      "37\n",
      "38\n",
      "39\n",
      "40\n",
      "41\n",
      "42\n",
      "43\n",
      "44\n",
      "45\n",
      "46\n",
      "47\n",
      "48\n",
      "49\n",
      "50\n",
      "51\n",
      "52\n",
      "53\n",
      "54\n",
      "55\n",
      "56\n",
      "57\n",
      "58\n",
      "59\n",
      "60\n",
      "61\n"
     ]
    }
   ],
   "source": [
    "## while loop\n",
    "\n",
    "job_age=25\n",
    "while job_age<=60:\n",
    "    job_age=job_age+1\n",
    "    print(job_age)\n",
    "    "
   ]
  },
  {
   "cell_type": "code",
   "execution_count": 5,
   "id": "74a8b392-14f3-4af7-b6f2-4cad3e389f03",
   "metadata": {},
   "outputs": [
    {
     "name": "stdout",
     "output_type": "stream",
     "text": [
      "25\n",
      "26\n",
      "27\n",
      "28\n",
      "29\n",
      "30\n",
      "31\n",
      "32\n",
      "33\n",
      "34\n",
      "35\n",
      "36\n",
      "37\n",
      "38\n",
      "39\n",
      "40\n",
      "41\n",
      "42\n",
      "43\n",
      "44\n",
      "45\n",
      "46\n",
      "47\n",
      "48\n",
      "49\n",
      "50\n",
      "51\n",
      "52\n",
      "53\n",
      "54\n",
      "55\n",
      "56\n",
      "57\n",
      "58\n",
      "59\n",
      "60\n",
      "Its time for retirement\n"
     ]
    }
   ],
   "source": [
    "job_age=25\n",
    "while job_age<=60:\n",
    "    print(job_age)\n",
    "    job_age=job_age+1\n",
    "else:\n",
    "    print(\"Its time for retirement\")"
   ]
  },
  {
   "cell_type": "code",
   "execution_count": 7,
   "id": "2426a0e9-d40e-4209-9d9e-af881bd1c762",
   "metadata": {},
   "outputs": [
    {
     "name": "stdout",
     "output_type": "stream",
     "text": [
      "1000\n",
      "900\n",
      "800\n",
      "700\n",
      "600\n",
      "500\n",
      "400\n",
      "300\n",
      "200\n",
      "100\n"
     ]
    }
   ],
   "source": [
    "## ATM machine with 1000 rs\n",
    "\n",
    "total_amount=1000\n",
    "while total_amount!=0:\n",
    "    print(total_amount)\n",
    "    total_amount=total_amount-100\n",
    "    "
   ]
  },
  {
   "cell_type": "code",
   "execution_count": 9,
   "id": "06642a5c-2561-4817-8f58-bf22df1a461e",
   "metadata": {},
   "outputs": [
    {
     "name": "stdout",
     "output_type": "stream",
     "text": [
      "1000\n",
      "900\n",
      "800\n",
      "700\n",
      "600\n",
      "500\n",
      "400\n",
      "300\n",
      "200\n",
      "100\n",
      "Add money to atm now\n",
      "Immidiately\n"
     ]
    }
   ],
   "source": [
    "total_amount=1000\n",
    "while total_amount!=0:\n",
    "    print(total_amount)\n",
    "    total_amount=total_amount-100\n",
    "else:\n",
    "    print(\"Add money to atm now\")\n",
    "    print(\"Immidiately\")"
   ]
  },
  {
   "cell_type": "markdown",
   "id": "ce695ebc-8f56-4731-96f8-6ecc0b71a760",
   "metadata": {},
   "source": [
    "# FOR LOOP"
   ]
  },
  {
   "cell_type": "code",
   "execution_count": 12,
   "id": "f7363c45-3249-439f-a327-fd46b015733e",
   "metadata": {},
   "outputs": [],
   "source": [
    "item=[\"Aditiya\",1,2,3,4,5,\"mango\",\"banana\"]"
   ]
  },
  {
   "cell_type": "code",
   "execution_count": 8,
   "id": "abe747d2-864b-440c-8ec3-324ada10d689",
   "metadata": {},
   "outputs": [
    {
     "data": {
      "text/plain": [
       "list"
      ]
     },
     "execution_count": 8,
     "metadata": {},
     "output_type": "execute_result"
    }
   ],
   "source": [
    "type(item)"
   ]
  },
  {
   "cell_type": "code",
   "execution_count": 9,
   "id": "24a2f1da-6551-448d-8c68-f471202ed4dc",
   "metadata": {},
   "outputs": [
    {
     "data": {
      "text/plain": [
       "3"
      ]
     },
     "execution_count": 9,
     "metadata": {},
     "output_type": "execute_result"
    }
   ],
   "source": [
    "item[3]"
   ]
  },
  {
   "cell_type": "code",
   "execution_count": 10,
   "id": "7f306914-897e-46b8-9f37-2b62b19dbdd7",
   "metadata": {},
   "outputs": [
    {
     "data": {
      "text/plain": [
       "'Aditiya'"
      ]
     },
     "execution_count": 10,
     "metadata": {},
     "output_type": "execute_result"
    }
   ],
   "source": [
    "item[0]"
   ]
  },
  {
   "cell_type": "code",
   "execution_count": null,
   "id": "e739b6c4-2cbe-452d-acae-ca5e6702e400",
   "metadata": {},
   "outputs": [],
   "source": [
    "item=[\"Aditiya\",1,2,3,4,5,\"mango\",\"banana\"]"
   ]
  },
  {
   "cell_type": "code",
   "execution_count": 13,
   "id": "04da9d70-0c18-43dd-aa50-d96f9ab7e5e7",
   "metadata": {},
   "outputs": [
    {
     "name": "stdout",
     "output_type": "stream",
     "text": [
      "Aditiya\n",
      "1\n",
      "2\n",
      "3\n",
      "4\n",
      "5\n",
      "mango\n",
      "banana\n"
     ]
    }
   ],
   "source": [
    "for x in item:\n",
    "    print(x)"
   ]
  },
  {
   "cell_type": "code",
   "execution_count": 14,
   "id": "5ae24529-82a7-4502-9fa3-a830201fe268",
   "metadata": {},
   "outputs": [],
   "source": [
    "students=[\"ravi\",\"mohit\",\"suman\",'nitish','om']"
   ]
  },
  {
   "cell_type": "code",
   "execution_count": 16,
   "id": "a0129099-0417-49f5-9fac-08601492d80f",
   "metadata": {},
   "outputs": [
    {
     "name": "stdout",
     "output_type": "stream",
     "text": [
      "ravi\n",
      "mohit\n",
      "left the class\n",
      "suman\n",
      "nitish\n",
      "om\n"
     ]
    }
   ],
   "source": [
    "for o in students:\n",
    "    print(o)\n",
    "    if o==\"mohit\":\n",
    "        print(\"left the class\")"
   ]
  },
  {
   "cell_type": "code",
   "execution_count": 17,
   "id": "7db60372-9a0f-4fde-9d6a-b5d9dab50e1b",
   "metadata": {},
   "outputs": [
    {
     "name": "stdout",
     "output_type": "stream",
     "text": [
      "m\n",
      "a\n",
      "n\n",
      "g\n",
      "o\n"
     ]
    }
   ],
   "source": [
    "fruit=\"mango\"\n",
    "for o in fruit:\n",
    "    print(o)"
   ]
  },
  {
   "cell_type": "code",
   "execution_count": 18,
   "id": "63799cc5-6514-4617-97ce-a66f43d737ec",
   "metadata": {},
   "outputs": [
    {
     "data": {
      "text/plain": [
       "'g'"
      ]
     },
     "execution_count": 18,
     "metadata": {},
     "output_type": "execute_result"
    }
   ],
   "source": [
    "fruit[3]"
   ]
  },
  {
   "cell_type": "markdown",
   "id": "76380aca-22cb-4739-824e-a3a8ca380b3c",
   "metadata": {},
   "source": [
    "# RANGE"
   ]
  },
  {
   "cell_type": "code",
   "execution_count": null,
   "id": "d7bd7f18-a4a5-4c24-97c5-9db40b404676",
   "metadata": {},
   "outputs": [],
   "source": [
    "n=7\n",
    "\n"
   ]
  },
  {
   "cell_type": "code",
   "execution_count": 19,
   "id": "1bf8d20b-f653-4ca6-b9dd-6f231c96971d",
   "metadata": {},
   "outputs": [
    {
     "data": {
      "text/plain": [
       "range(1, 12)"
      ]
     },
     "execution_count": 19,
     "metadata": {},
     "output_type": "execute_result"
    }
   ],
   "source": [
    "range(1,12)"
   ]
  },
  {
   "cell_type": "code",
   "execution_count": 20,
   "id": "f1177456-d0b6-4eef-90e3-6808d791842a",
   "metadata": {},
   "outputs": [
    {
     "name": "stdout",
     "output_type": "stream",
     "text": [
      "1\n",
      "2\n",
      "3\n",
      "4\n",
      "5\n",
      "6\n",
      "7\n",
      "8\n",
      "9\n",
      "10\n",
      "11\n"
     ]
    }
   ],
   "source": [
    "for i in range(1,12):\n",
    "    print(i)"
   ]
  },
  {
   "cell_type": "code",
   "execution_count": 21,
   "id": "61e6b713-ce50-4f61-97cc-9965d98ebefa",
   "metadata": {},
   "outputs": [
    {
     "name": "stdout",
     "output_type": "stream",
     "text": [
      "1\n",
      "3\n",
      "5\n",
      "7\n",
      "9\n",
      "11\n"
     ]
    }
   ],
   "source": [
    "for i in range(1,12,2):\n",
    "    print(i)"
   ]
  },
  {
   "cell_type": "markdown",
   "id": "ed110197-b893-4c83-8aa3-a2f4184989f8",
   "metadata": {},
   "source": [
    "# NESTED LOOPS"
   ]
  },
  {
   "cell_type": "code",
   "execution_count": 24,
   "id": "8a9b1036-9891-4f9f-b380-92d4891986d9",
   "metadata": {},
   "outputs": [
    {
     "name": "stdout",
     "output_type": "stream",
     "text": [
      "****************************"
     ]
    }
   ],
   "source": [
    "n=7\n",
    "\n",
    "for i in range(0,n):\n",
    "    for j in range(0,i+1):\n",
    "        print(\"*\",end=\"\")\n",
    "       "
   ]
  },
  {
   "cell_type": "code",
   "execution_count": 37,
   "id": "b8bbab4e-2eb7-4a66-ac5c-dc1ad0ff70c7",
   "metadata": {},
   "outputs": [
    {
     "name": "stdout",
     "output_type": "stream",
     "text": [
      "*\n",
      "*\n",
      "*\n",
      "*\n",
      "*\n",
      "*\n",
      "*\n",
      "*\n",
      "*\n",
      "*\n",
      "*\n",
      "*\n",
      "*\n",
      "*\n",
      "*\n",
      "*\n",
      "*\n",
      "*\n",
      "*\n",
      "*\n",
      "*\n",
      "*\n",
      "*\n",
      "*\n",
      "*\n",
      "*\n",
      "*\n",
      "*\n"
     ]
    }
   ],
   "source": [
    "n=7\n",
    "\n",
    "for i in range(0,n):\n",
    "    for j in range(0,i+1):\n",
    "        print(\"*\",end=\"\\n\")\n",
    "       \n",
    "        "
   ]
  },
  {
   "cell_type": "code",
   "execution_count": 39,
   "id": "d4b96024-b3bd-414d-802d-9a39b58970d9",
   "metadata": {},
   "outputs": [
    {
     "name": "stdout",
     "output_type": "stream",
     "text": [
      "*\n",
      "**\n",
      "***\n",
      "****\n",
      "*****\n",
      "******\n",
      "*******\n"
     ]
    }
   ],
   "source": [
    "n=7\n",
    "\n",
    "for i in range(0,n):\n",
    "    for j in range(0,i+1):\n",
    "        print(\"*\",end=\"\")\n",
    "    print(\"\\r\")   "
   ]
  },
  {
   "cell_type": "code",
   "execution_count": 66,
   "id": "22aef3b6-68fa-4336-a0ee-fa9bb63b95be",
   "metadata": {},
   "outputs": [
    {
     "name": "stdout",
     "output_type": "stream",
     "text": [
      "*\n",
      "**\n",
      "***\n",
      "****\n",
      "*****\n",
      "******\n",
      "*******\n",
      "********\n",
      "*********\n",
      "**********\n",
      "***********\n",
      "************\n"
     ]
    }
   ],
   "source": [
    "n=12\n",
    "\n",
    "for i in range(0,n):\n",
    "    for j in range(0,i+1):\n",
    "        print(\"*\",end=\"\")\n",
    "    print(\"\\r\")"
   ]
  },
  {
   "cell_type": "markdown",
   "id": "8bbd7fb3-9fea-448b-a528-57c64d364bc8",
   "metadata": {},
   "source": [
    "## LOOPS CONTROLS\n",
    "## BREAK AND CONTINUE"
   ]
  },
  {
   "cell_type": "code",
   "execution_count": 67,
   "id": "2fd60d02-c390-45b9-b6ec-c448c931602d",
   "metadata": {},
   "outputs": [],
   "source": [
    "students=[\"ravi\",\"mohit\",\"suman\",'nitish','om']"
   ]
  },
  {
   "cell_type": "code",
   "execution_count": 75,
   "id": "57f0dca5-ae12-45b7-9d1d-657dc9416130",
   "metadata": {},
   "outputs": [
    {
     "name": "stdout",
     "output_type": "stream",
     "text": [
      "ravi\n",
      "Class topper\n",
      "mohit\n",
      "suman\n",
      "nitish\n",
      "om\n"
     ]
    }
   ],
   "source": [
    "for i in students:\n",
    "    if i==\"mohit\":\n",
    "        print(\"Class topper\")\n",
    "    print(i)\n",
    "   \n",
    "   "
   ]
  },
  {
   "cell_type": "code",
   "execution_count": 78,
   "id": "d483e8ce-f837-4d3e-9aa5-acb1a9494965",
   "metadata": {},
   "outputs": [
    {
     "name": "stdout",
     "output_type": "stream",
     "text": [
      "ravi\n",
      "Class topper\n"
     ]
    }
   ],
   "source": [
    "for i in students:\n",
    "    if i==\"mohit\":\n",
    "        print(\"Class topper\")\n",
    "        break\n",
    "    print(i)"
   ]
  },
  {
   "cell_type": "code",
   "execution_count": 79,
   "id": "aa8d3236-2312-42e6-b05b-54685d453d16",
   "metadata": {},
   "outputs": [
    {
     "name": "stdout",
     "output_type": "stream",
     "text": [
      "ravi\n",
      "Class topper\n",
      "mohit\n",
      "suman\n",
      "nitish\n",
      "om\n"
     ]
    }
   ],
   "source": [
    "for i in students:\n",
    "    if i==\"mohit\":\n",
    "        print(\"Class topper\")\n",
    "        pass\n",
    "    print(i)"
   ]
  },
  {
   "cell_type": "code",
   "execution_count": 80,
   "id": "9186c025-9872-4222-b2ec-2ae2aee76cd6",
   "metadata": {},
   "outputs": [
    {
     "name": "stdout",
     "output_type": "stream",
     "text": [
      "ravi\n",
      "Class topper\n",
      "suman\n",
      "nitish\n",
      "om\n"
     ]
    }
   ],
   "source": [
    "for i in students:\n",
    "    if i==\"mohit\":\n",
    "        print(\"Class topper\")\n",
    "        continue\n",
    "    print(i)"
   ]
  },
  {
   "cell_type": "code",
   "execution_count": null,
   "id": "f2aca5af-6990-4221-adf2-fc7e9b533b3c",
   "metadata": {},
   "outputs": [],
   "source": []
  },
  {
   "cell_type": "code",
   "execution_count": null,
   "id": "18a0cdc8-4c3d-4076-96ed-8e025d35d6c4",
   "metadata": {},
   "outputs": [],
   "source": []
  },
  {
   "cell_type": "code",
   "execution_count": null,
   "id": "088b52ef-b0ab-46e9-bc2a-169959676aec",
   "metadata": {},
   "outputs": [],
   "source": []
  },
  {
   "cell_type": "code",
   "execution_count": null,
   "id": "3c494749-5810-47ae-97ff-ac999385b475",
   "metadata": {},
   "outputs": [],
   "source": []
  },
  {
   "cell_type": "code",
   "execution_count": null,
   "id": "73479771-ca82-4505-8d1d-630ba513849d",
   "metadata": {},
   "outputs": [],
   "source": []
  },
  {
   "cell_type": "code",
   "execution_count": null,
   "id": "bcdfec60-15d6-4cb4-b8af-a4e1391a7ab2",
   "metadata": {},
   "outputs": [],
   "source": []
  },
  {
   "cell_type": "code",
   "execution_count": null,
   "id": "49a52fa0-c21c-4a6a-b5fd-4955b5a5c0ab",
   "metadata": {},
   "outputs": [],
   "source": []
  },
  {
   "cell_type": "code",
   "execution_count": null,
   "id": "831547af-52ab-4062-9f8d-981cac078ec6",
   "metadata": {},
   "outputs": [],
   "source": []
  }
 ],
 "metadata": {
  "kernelspec": {
   "display_name": "Python 3 (ipykernel)",
   "language": "python",
   "name": "python3"
  },
  "language_info": {
   "codemirror_mode": {
    "name": "ipython",
    "version": 3
   },
   "file_extension": ".py",
   "mimetype": "text/x-python",
   "name": "python",
   "nbconvert_exporter": "python",
   "pygments_lexer": "ipython3",
   "version": "3.10.8"
  }
 },
 "nbformat": 4,
 "nbformat_minor": 5
}
