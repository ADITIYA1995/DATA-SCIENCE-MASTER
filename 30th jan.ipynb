{
 "cells": [
  {
   "cell_type": "code",
   "execution_count": 18,
   "id": "1ef28f91-2b56-47fd-849e-a5a6078287b0",
   "metadata": {},
   "outputs": [
    {
     "name": "stdout",
     "output_type": "stream",
     "text": [
      "Is elegible to vote\n"
     ]
    }
   ],
   "source": [
    "## if statement\n",
    "age=18\n",
    "if age>=18:\n",
    "    print(\"Is elegible to vote\") \n",
    "   "
   ]
  },
  {
   "cell_type": "code",
   "execution_count": 19,
   "id": "9e8fff38-f1b8-4790-adb2-0bee5bb40a98",
   "metadata": {},
   "outputs": [
    {
     "name": "stdout",
     "output_type": "stream",
     "text": [
      "Is not elegible to vote\n"
     ]
    }
   ],
   "source": [
    "## if statement\n",
    "age=18\n",
    "if age<=18:\n",
    "    print(\"Is not elegible to vote\") "
   ]
  },
  {
   "cell_type": "code",
   "execution_count": 23,
   "id": "ca031969-22f3-4cd8-baf4-10001c48e982",
   "metadata": {},
   "outputs": [
    {
     "name": "stdin",
     "output_type": "stream",
     "text": [
      " i am loving it\n"
     ]
    },
    {
     "data": {
      "text/plain": [
       "'i am loving it'"
      ]
     },
     "execution_count": 23,
     "metadata": {},
     "output_type": "execute_result"
    }
   ],
   "source": [
    "input(i)"
   ]
  },
  {
   "cell_type": "code",
   "execution_count": 1,
   "id": "0f275049-3a24-4791-9647-3a70ea1881f7",
   "metadata": {},
   "outputs": [
    {
     "name": "stdin",
     "output_type": "stream",
     "text": [
      "type ur age 26\n"
     ]
    }
   ],
   "source": [
    "age=int(input(\"type ur age\"))"
   ]
  },
  {
   "cell_type": "code",
   "execution_count": 3,
   "id": "aaffb2c5-c171-48b0-ae95-2627f4c9c8a1",
   "metadata": {},
   "outputs": [
    {
     "data": {
      "text/plain": [
       "int"
      ]
     },
     "execution_count": 3,
     "metadata": {},
     "output_type": "execute_result"
    }
   ],
   "source": [
    "type(age)"
   ]
  },
  {
   "cell_type": "code",
   "execution_count": 28,
   "id": "98b33180-9370-4b58-936a-7db2bad54248",
   "metadata": {},
   "outputs": [],
   "source": [
    "## if statements\n"
   ]
  },
  {
   "cell_type": "code",
   "execution_count": 27,
   "id": "d5a59e2a-c3f8-4ce3-964c-c277916003e5",
   "metadata": {},
   "outputs": [
    {
     "name": "stdin",
     "output_type": "stream",
     "text": [
      "type ur age 22\n"
     ]
    },
    {
     "name": "stdout",
     "output_type": "stream",
     "text": [
      "you are young blood\n"
     ]
    }
   ],
   "source": [
    "age=int(input(\"type ur age\"))\n",
    "if age>=18 and age<=45:\n",
    "    print(\"you are young blood\")\n",
    "if age<=18 and age>=45:\n",
    "    print(\"you are not young blood\")\n",
    "    \n"
   ]
  },
  {
   "cell_type": "code",
   "execution_count": 29,
   "id": "75717d4c-e0ef-49e4-adb0-50e9f7c4aca6",
   "metadata": {},
   "outputs": [
    {
     "name": "stdin",
     "output_type": "stream",
     "text": [
      " type ur age 55\n"
     ]
    }
   ],
   "source": [
    "age=int(input(\" type ur age\"))\n",
    "if age>=18 and age<=45:\n",
    "    print(\"you are elegible\")"
   ]
  },
  {
   "cell_type": "code",
   "execution_count": 21,
   "id": "318dc8eb-ae08-44e0-83e9-e5d231989b89",
   "metadata": {},
   "outputs": [
    {
     "data": {
      "text/plain": [
       "False"
      ]
     },
     "execution_count": 21,
     "metadata": {},
     "output_type": "execute_result"
    }
   ],
   "source": [
    "17>=18"
   ]
  },
  {
   "cell_type": "code",
   "execution_count": 22,
   "id": "40fc769c-cc76-46b0-a512-1c142870c3e3",
   "metadata": {},
   "outputs": [
    {
     "data": {
      "text/plain": [
       "True"
      ]
     },
     "execution_count": 22,
     "metadata": {},
     "output_type": "execute_result"
    }
   ],
   "source": [
    "44<=45"
   ]
  },
  {
   "cell_type": "code",
   "execution_count": null,
   "id": "0ea14a5b-0c25-47ec-ba12-00866eda5339",
   "metadata": {},
   "outputs": [],
   "source": [
    "## if else statements"
   ]
  },
  {
   "cell_type": "code",
   "execution_count": 31,
   "id": "a2abc63a-57c5-49eb-92af-3e4d48970379",
   "metadata": {},
   "outputs": [
    {
     "name": "stdin",
     "output_type": "stream",
     "text": [
      " type ur age 55\n"
     ]
    },
    {
     "name": "stdout",
     "output_type": "stream",
     "text": [
      "sorry try next time\n"
     ]
    }
   ],
   "source": [
    "age=int(input(\" type ur age\"))\n",
    "if age>=18 and age<=45:\n",
    "    print(\"you are elegible\")\n",
    "else:\n",
    "    print(\"sorry try next time\")"
   ]
  },
  {
   "cell_type": "code",
   "execution_count": 38,
   "id": "1be0a55f-56c1-4aff-856a-164f570af875",
   "metadata": {},
   "outputs": [
    {
     "name": "stdin",
     "output_type": "stream",
     "text": [
      "type amount 500\n"
     ]
    },
    {
     "name": "stdout",
     "output_type": "stream",
     "text": [
      "discount 30%\n"
     ]
    }
   ],
   "source": [
    "price=int(input(\"type amount\"))\n",
    "if price>=1000:\n",
    "    print(\"discount 20%\")\n",
    "else:\n",
    "    print(\"discount 30%\")"
   ]
  },
  {
   "cell_type": "code",
   "execution_count": 46,
   "id": "059e1f52-eb5a-42c6-9a0e-00fe0c52cdee",
   "metadata": {},
   "outputs": [
    {
     "name": "stdin",
     "output_type": "stream",
     "text": [
      "type product amount 1111\n"
     ]
    },
    {
     "name": "stdout",
     "output_type": "stream",
     "text": [
      "The price of the product is 888.8000000000001\n"
     ]
    }
   ],
   "source": [
    "price_product=int(input(\"type product amount\"))\n",
    "if price_product>1000:\n",
    "    print(\"The price of the product is {}\".format(price_product*0.8))\n",
    "else:\n",
    "    print(\"The price of the product is {}\".format(price_product*0.7))\n",
    "    "
   ]
  },
  {
   "cell_type": "code",
   "execution_count": 51,
   "id": "0345167c-b115-45e8-bd7e-d9e0d7bc3d59",
   "metadata": {},
   "outputs": [
    {
     "name": "stdin",
     "output_type": "stream",
     "text": [
      "type product amount 5454545451211356989978465465321222221315465479874654321222454878976545432\n"
     ]
    },
    {
     "name": "stdout",
     "output_type": "stream",
     "text": [
      "The price of the product is 4.363636360969086e+72\n"
     ]
    }
   ],
   "source": [
    "price_product=int(input(\"type product amount\"))\n",
    "if price_product>1000:\n",
    "    print(f\"The price of the product is {price_product*0.8}\")\n",
    "else:\n",
    "    print(f\"The price of the product is {price_product*0.7}\")\n",
    "    \n"
   ]
  },
  {
   "cell_type": "code",
   "execution_count": 76,
   "id": "d088fa03-3ec1-41e8-a84a-fd35ed8b68cb",
   "metadata": {},
   "outputs": [
    {
     "name": "stdin",
     "output_type": "stream",
     "text": [
      "product amount 2\n"
     ]
    },
    {
     "name": "stdout",
     "output_type": "stream",
     "text": [
      "The price of the product is 1.2\n"
     ]
    }
   ],
   "source": [
    "product_price=int(input(\"product amount\"))\n",
    "if product_price>3000:\n",
    "    print(\"The price of the product is {}\".format(product_price*0.8))\n",
    "elif product_price>=2000 and product_price<=3000:\n",
    "    print(f\"The price of the product is {product_price*0.7}\")\n",
    "else:\n",
    "    print(\"The price of the product is {}\".format(product_price*0.6))\n",
    "\n"
   ]
  },
  {
   "cell_type": "code",
   "execution_count": 87,
   "id": "11b71e0c-189e-4a7c-921e-a28e97792621",
   "metadata": {},
   "outputs": [
    {
     "name": "stdin",
     "output_type": "stream",
     "text": [
      "product amount 1999\n"
     ]
    },
    {
     "name": "stdout",
     "output_type": "stream",
     "text": [
      "The price of the product is 1199.3999999999999\n"
     ]
    }
   ],
   "source": [
    "product_price=int(input(\"product amount\"))\n",
    "if product_price>3000:\n",
    "    print(\"The price of the product is {}\".format(product_price*0.8))\n",
    "elif product_price>=2000 and product_price<=3000:\n",
    "    print(f\"The price of the product is {product_price*0.7}\")\n",
    "elif  product_price==2999 and product_price==1999:\n",
    "    print(\"special gift hamper\")\n",
    "elif product_price>=100 and product_price<=2000:\n",
    "    print(\"The price of the product is {}\".format(product_price*0.6))\n",
    "else:\n",
    "    print(\"chill out with tea\")\n"
   ]
  },
  {
   "cell_type": "code",
   "execution_count": 2,
   "id": "dbff93af-0690-4195-9231-0ee273eb7384",
   "metadata": {},
   "outputs": [
    {
     "name": "stdin",
     "output_type": "stream",
     "text": [
      "product amount 4000\n"
     ]
    },
    {
     "name": "stdout",
     "output_type": "stream",
     "text": [
      "The price of the product is 3200.0\n",
      "congs u got a GOA trip\n",
      "i will also join you\n"
     ]
    }
   ],
   "source": [
    "product_price=int(input(\"product amount\"))\n",
    "if product_price>3000:\n",
    "    print(\"The price of the product is {}\".format(product_price*0.8))\n",
    "elif product_price>=2000 and product_price<=3000:\n",
    "    print(f\"The price of the product is {product_price*0.7}\")\n",
    "    if product_price==2999:\n",
    "        print(\" #conguralation \\n special gift hamper\")\n",
    "elif product_price>=100 and product_price<=2000:\n",
    "    print(\"The price of the product is {}\".format(product_price*0.6))\n",
    "else:\n",
    "    print(\"chill out with tea\")\n",
    "if product_price==4000:\n",
    "    print(\"congs u got a GOA trip\")\n",
    "    print(\"i will also join you\")\n",
    "\n",
    "       \n"
   ]
  },
  {
   "cell_type": "markdown",
   "id": "17124fb7-4e43-45f2-a66f-4f95e158ec33",
   "metadata": {},
   "source": [
    "# single atatements suites"
   ]
  },
  {
   "cell_type": "code",
   "execution_count": 5,
   "id": "990ca0b5-cfe8-4d7d-b889-02628cc302e7",
   "metadata": {},
   "outputs": [
    {
     "name": "stdin",
     "output_type": "stream",
     "text": [
      "Enter the no 1212\n"
     ]
    },
    {
     "name": "stdout",
     "output_type": "stream",
     "text": [
      "disqualified\n"
     ]
    }
   ],
   "source": [
    "value=int(input(\"Enter the no\"))\n",
    "if value<=999:print(\"promoted\")\n",
    "else:\n",
    "          print(\"disqualified\")"
   ]
  },
  {
   "cell_type": "code",
   "execution_count": null,
   "id": "41bb55db-732c-41ec-8eaa-c9484247f01f",
   "metadata": {},
   "outputs": [],
   "source": []
  },
  {
   "cell_type": "code",
   "execution_count": null,
   "id": "54c195c2-4919-4733-b1af-33c3e027fc31",
   "metadata": {},
   "outputs": [],
   "source": []
  },
  {
   "cell_type": "code",
   "execution_count": null,
   "id": "1a93a9cd-21a2-45bc-bfeb-de2c277e4034",
   "metadata": {},
   "outputs": [],
   "source": []
  },
  {
   "cell_type": "code",
   "execution_count": null,
   "id": "3c22e879-d533-4d97-97b8-7fa14643dda5",
   "metadata": {},
   "outputs": [],
   "source": []
  },
  {
   "cell_type": "code",
   "execution_count": null,
   "id": "7fde9fca-40a6-4f5e-bad5-c522744437c8",
   "metadata": {},
   "outputs": [],
   "source": []
  },
  {
   "cell_type": "code",
   "execution_count": null,
   "id": "74a0deb7-e24b-43cd-8aae-87ffd4cdd576",
   "metadata": {},
   "outputs": [],
   "source": []
  },
  {
   "cell_type": "code",
   "execution_count": null,
   "id": "4c826e3d-2281-45d7-9fdc-b4760c80179c",
   "metadata": {},
   "outputs": [],
   "source": []
  },
  {
   "cell_type": "markdown",
   "id": "60db7c95-c078-4514-a97f-94de9ea48b78",
   "metadata": {},
   "source": [
    "## "
   ]
  }
 ],
 "metadata": {
  "kernelspec": {
   "display_name": "Python 3 (ipykernel)",
   "language": "python",
   "name": "python3"
  },
  "language_info": {
   "codemirror_mode": {
    "name": "ipython",
    "version": 3
   },
   "file_extension": ".py",
   "mimetype": "text/x-python",
   "name": "python",
   "nbconvert_exporter": "python",
   "pygments_lexer": "ipython3",
   "version": "3.10.8"
  }
 },
 "nbformat": 4,
 "nbformat_minor": 5
}
